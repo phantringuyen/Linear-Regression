{
 "cells": [
  {
   "cell_type": "markdown",
   "metadata": {},
   "source": [
    "# <center>Đồ án 3: Linear Regression</center>"
   ]
  },
  {
   "cell_type": "markdown",
   "metadata": {},
   "source": [
    "# Thông tin sinh viên\n",
    "\n",
    "- Họ và tên: Phan Trí Nguyên\n",
    "- MSSV: 20127578\n",
    "- Lớp: 20CLC05"
   ]
  },
  {
   "cell_type": "markdown",
   "metadata": {},
   "source": [
    "# Import"
   ]
  },
  {
   "cell_type": "code",
   "execution_count": 1,
   "metadata": {},
   "outputs": [],
   "source": [
    "import pandas as pd\n",
    "import numpy as np\n",
    "from sklearn.metrics import mean_squared_error\n",
    "import random\n",
    "\n",
    "# Import thêm dữ thư viện nếu cần"
   ]
  },
  {
   "cell_type": "markdown",
   "metadata": {},
   "source": [
    "# Đọc dữ liệu"
   ]
  },
  {
   "cell_type": "code",
   "execution_count": 2,
   "metadata": {},
   "outputs": [],
   "source": [
    "# Đọc dữ liệu bằng pandas\n",
    "train = pd.read_csv('train.csv')\n",
    "test = pd.read_csv('test.csv')\n",
    "\n",
    "# Lấy các đặc trưng X và giá trị mục tiêu y cho các tập huấn luyện (train) và kiểm tra (test)\n",
    "X_train = train.iloc[:, :-1].to_numpy()    # Dataframe (chứa 10 đặc trưng huấn luyện)\n",
    "y_train = train.iloc[:, -1].to_numpy()     # Series    (chứa 1 giá trị mục tiêu kiểm tra)\n",
    "\n",
    "X_test = test.iloc[:, :-1]      # Dataframe (chứa 10 đặc trưng kiểm tra)\n",
    "y_test = test.iloc[:, -1]       # Series    (chứa 1 giá trị mục tiêu kiểm tra)\n",
    "\n",
    "# Sinh viên có thể sử dụng các khác nếu cần\n",
    "label = train.columns"
   ]
  },
  {
   "cell_type": "markdown",
   "metadata": {
    "slideshow": {
     "slide_type": "slide"
    }
   },
   "source": [
    "# Cài đặt hàm"
   ]
  },
  {
   "cell_type": "code",
   "execution_count": 3,
   "metadata": {},
   "outputs": [],
   "source": [
    "# Cài đặt các hàm cần thiết ở đây\n",
    "x_train_2d = np.array(X_train)\n",
    "y_train_2d = np.array(y_train)\n",
    "\n",
    "x_test_2d = np.array(X_test)\n",
    "y_test_2d = np.array(y_test)\n",
    "\n",
    "class OLSLinearRegression:\n",
    "    def fit(self, X, y):\n",
    "        X_pinv = np.linalg.inv(X.T @ X) @ X.T    # np.linalg.pinv(X)\n",
    "        self.w = X_pinv @ y\n",
    "\n",
    "        return self\n",
    "\n",
    "\n",
    "    def get_params(self):\n",
    "        return self.w\n",
    "\n",
    "\n",
    "    def predict(self, X):\n",
    "        return np.sum(self.w.ravel() * X, axis=1) "
   ]
  },
  {
   "cell_type": "markdown",
   "metadata": {},
   "source": [
    "# Yêu cầu 1a: Sử dụng toàn bộ 10 đặc trưng đề bài cung cấp (2 điểm) "
   ]
  },
  {
   "cell_type": "code",
   "execution_count": 4,
   "metadata": {
    "scrolled": true
   },
   "outputs": [
    {
     "name": "stdout",
     "output_type": "stream",
     "text": [
      "[0.015101362735318279, 0.09021998065775627, 0.04292181752549435, 0.13928911689488216, -0.5673328270884068, -0.0001007651148748953, 0.7407134377587112, 0.19093579767396474, 24.505973591149445, 2.393516607832779] \n",
      "\n"
     ]
    }
   ],
   "source": [
    "# Phần code cho yêu cầu 1a\n",
    "lr = OLSLinearRegression().fit(X_train, y_train)\n",
    "print(list(lr.get_params()), \"\\n\")"
   ]
  },
  {
   "cell_type": "code",
   "execution_count": 5,
   "metadata": {
    "scrolled": true
   },
   "outputs": [
    {
     "name": "stdout",
     "output_type": "stream",
     "text": [
      "Dùng thư viện có sẵn với squared là False:\n",
      " RMSE =  7.064046430584705 \n",
      "\n",
      "Dùng thư viện có sẵn với squared là True:\n",
      " RMSE 2 =  7.064046430584705 \n",
      "\n",
      "Hàm xử lí tính toán:\n",
      " RMSE 3 =  7.064046430584705 \n",
      "\n"
     ]
    }
   ],
   "source": [
    "# Gọi hàm RMSE (tự cài đặt hoặc từ thư viện) trên tập kiểm tra\n",
    "y_test_preds = lr.predict(X_test)\n",
    "\n",
    "#cách 1: dùng thư viện có sẵn\n",
    "def RMSE(y, y_preds):\n",
    "    return mean_squared_error(y, y_preds, squared = False)\n",
    "#có square để làm key, nếu là False thì phép tính đã có căn bậc hai\n",
    "\n",
    "#cách 2: dùng thư viện có sẵn\n",
    "def RMSE_2(y, y_preds):\n",
    "     # nếu là True thì phép tính chưa có căn bậc hai\n",
    "    mse = mean_squared_error(y_test, y_test_preds, squared = True)\n",
    "    return (np.sqrt(mse))\n",
    "\n",
    "# cách 3: viết hàm tính toán\n",
    "def RMSE_3(y, y_preds):\n",
    "    return np.sqrt(np.mean((y.ravel() - y_preds.ravel())**2))\n",
    "\n",
    "print('Dùng thư viện có sẵn với squared là False:\\n RMSE = ', RMSE(y_test, y_test_preds), '\\n')\n",
    "print('Dùng thư viện có sẵn với squared là True:\\n RMSE 2 = ', RMSE_2(y_test, y_test_preds), '\\n')\n",
    "print('Hàm xử lí tính toán:\\n RMSE 3 = ', RMSE_3(y_test, y_test_preds), \"\\n\")"
   ]
  },
  {
   "cell_type": "markdown",
   "metadata": {},
   "source": [
    "Công thức hồi quy\n",
    "\n",
    "$$\\text{Life expectancy} = (0.0151 * Adult Mortality) + (0.0902 * BMI) + (0.0429 *  Polio) + (0.1392 * Diphtheria) + (-0.5673 * HIV/AIDS) + (-0.0001 * GDP) + (0.7407 * Thinness age 10-19) + (0.1909 * Thinness age 5-9) + (24.5059 * Income composition of resources) + (2.3935 * Schooling)$$"
   ]
  },
  {
   "cell_type": "markdown",
   "metadata": {},
   "source": [
    "# Yêu cầu 1b: Xây dựng mô hình sử dụng duy nhất 1 đặc trưng, tìm mô hình cho kết quả tốt nhất (2 điểm)"
   ]
  },
  {
   "cell_type": "markdown",
   "metadata": {},
   "source": [
    "Lưu ý: khi sử dụng cross-validation, sinh viên cần xáo trộn dữ liệu 1 lần duy nhất và thực hiện trên toàn bộ đặc trưng"
   ]
  },
  {
   "cell_type": "code",
   "execution_count": 6,
   "metadata": {
    "scrolled": true
   },
   "outputs": [
    {
     "name": "stdout",
     "output_type": "stream",
     "text": [
      "   Life expectancy          Mô hình với 1 đặc trưng       RMSE\n",
      "0             65.0                  Adult Mortality  46.012537\n",
      "1             59.9                              BMI  27.926360\n",
      "2             77.8                            Polio  18.047051\n",
      "3             77.5                       Diphtheria  16.004723\n",
      "4             75.4                         HIV/AIDS  66.737829\n",
      "5             51.7                              GDP  60.083419\n",
      "6             76.2               Thinness age 10-19  51.579988\n",
      "7             74.6                 Thinness age 5-9  51.410890\n",
      "8             82.7  Income composition of resources  13.289349\n",
      "9             81.4                        Schooling  11.767871 \n",
      "\n",
      "Index of the best feature:  9 \n",
      "\n"
     ]
    }
   ],
   "source": [
    "# Tìm ra đặc trưng tốt nhất\n",
    "# In ra các kết quả cross-validation như yêu cầu\n",
    "def CrossValidation(x_test, y_test, fold):\n",
    "    rmse = 0\n",
    "    n = x_test.shape[0]\n",
    "    delta = n/fold\n",
    "   \n",
    "    for i in range (fold):\n",
    "        start_sample = int(i*delta)\n",
    "        end_sample = int((i+1)*delta)\n",
    "        \n",
    "        x_value = x_test[start_sample:end_sample]\n",
    "        y_value = y_test[start_sample:end_sample]\n",
    "        \n",
    "        lr.fit(x_value, y_value)\n",
    "        \n",
    "        y_train_pred = lr.predict(x_value)\n",
    "\n",
    "        x_test_feature = np.array([*x_test[:start_sample], *x_test[end_sample:]])\n",
    "        y_test_feature = np.array([*y_test[:start_sample], *y_test[end_sample:]])\n",
    "        \n",
    "        rmse += RMSE(y_value, y_train_pred)\n",
    "        \n",
    "    return rmse/fold\n",
    "\n",
    "def shuffle_matrix():\n",
    "    return random.shuffle(mlist)\n",
    "\n",
    "def append_data(myList):\n",
    "    x_train_temp = []\n",
    "    y_train_temp = []\n",
    "    for i in range(X_train.shape[0]):\n",
    "        x_train_temp.append(x_train_2d[myList[i]])\n",
    "        y_train_temp.append(y_train_2d[myList[i]])\n",
    "\n",
    "    x_train_temp = np.array(x_train_temp)\n",
    "    y_train_temp = np.array(y_train_temp) \n",
    "    return x_train_temp, y_train_temp\n",
    "\n",
    "def calculate_RMSE():\n",
    "    for i in range(number_of_feature):\n",
    "        x_train_feature = x[:, i].copy().reshape((-1, 1))\n",
    "        y_train_feature = y.copy()\n",
    "        rmse[i] = CrossValidation(x_train_feature, y_train_feature, 5)\n",
    "\n",
    "'''-----------------------------------'''\n",
    "# khai báo các biến cần thiết để tính toán\n",
    "x = []\n",
    "y = []\n",
    "mlist = list(range(0, X_train.shape[0]))\n",
    "rmse = np.zeros(10)\n",
    "number_of_feature = 10\n",
    "\n",
    "'''------Excute program------'''\n",
    "\n",
    "# xáo trộn dữ liệu trong danh sách 1 lần duy nhất \n",
    "shuffle_matrix()\n",
    "x, y = append_data(mlist)\n",
    "\n",
    "# hàm thực hiện việc tính toán RMSE của 10 đặc trưng\n",
    "calculate_RMSE()\n",
    "\n",
    "index_best_feature = np.where(rmse == np.amin(rmse))[0][0]\n",
    "    \n",
    "'''------Print table------'''    \n",
    "output = pd.DataFrame(y_test[0:10])\n",
    "output['Mô hình với 1 đặc trưng'] = label[0:10]\n",
    "output['RMSE'] = rmse[0:10]\n",
    "print(output, \"\\n\")\n",
    "\n",
    "'''------Print result------'''\n",
    "print(\"Index of the best feature: \", index_best_feature, \"\\n\")"
   ]
  },
  {
   "cell_type": "code",
   "execution_count": 7,
   "metadata": {
    "scrolled": true
   },
   "outputs": [
    {
     "name": "stdout",
     "output_type": "stream",
     "text": [
      "[5.5573993976919205] \n",
      "\n"
     ]
    }
   ],
   "source": [
    "# Huấn luyện lại mô hình best_feature_model với đặc trưng tốt nhất trên toàn bộ tập huấn luyện\n",
    "# câu 1b ý 4\n",
    "X_train_best_feature = x[:, index_best_feature].copy().reshape((-1,1))\n",
    "lr.fit(X_train_best_feature, y)\n",
    "print(list(lr.get_params()), \"\\n\")"
   ]
  },
  {
   "cell_type": "code",
   "execution_count": 8,
   "metadata": {
    "scrolled": false
   },
   "outputs": [
    {
     "name": "stdout",
     "output_type": "stream",
     "text": [
      "RMSE =  10.26095039165537 \n",
      "\n"
     ]
    }
   ],
   "source": [
    "# Gọi hàm RMSE (tự cài đặt hoặc từ thư viện) trên tập kiểm tra với mô hình best_feature_model\n",
    "best_feature_model = lr.predict(X_test.to_numpy()[:, index_best_feature].reshape(-1, 1))\n",
    "print(\"RMSE = \", RMSE(y_test.copy(), best_feature_model), \"\\n\")"
   ]
  },
  {
   "cell_type": "markdown",
   "metadata": {},
   "source": [
    "Công thức hồi quy\n",
    "\n",
    "$$\\text{Life expectancy} =5.5573994 * Schooling$$"
   ]
  },
  {
   "cell_type": "markdown",
   "metadata": {},
   "source": [
    "# Yêu cầu 1c: Sinh viên tự xây dựng mô hình, tìm mô hình cho kết quả tốt nhất (3 điểm)"
   ]
  },
  {
   "cell_type": "markdown",
   "metadata": {},
   "source": [
    "Lưu ý: khi sử dụng cross-validation, sinh viên cần xáo trộn dữ liệu 1 lần duy nhất và thực hiện trên toàn bộ $m$ mô hình mà sinh viên thiết kế"
   ]
  },
  {
   "cell_type": "code",
   "execution_count": 9,
   "metadata": {},
   "outputs": [
    {
     "name": "stdout",
     "output_type": "stream",
     "text": [
      "-0.6852900668760471\n",
      "0.6106869049325893\n",
      "0.36570463313391055\n",
      "0.40679787281341856\n",
      "-0.5865777200247838\n",
      "0.4867608561696112\n",
      "-0.503652334646405\n",
      "-0.5002309457544403\n",
      "0.779403572108283\n",
      "0.754863721105356\n",
      "\n",
      "\n"
     ]
    }
   ],
   "source": [
    "# tính toán để chọn ra Hệ số tương quan, những số liệu đặc trưng nào có Hệ số tương quan gần nhau\\\n",
    "# thì có chỉ số thống kê đo lường mức độ mạnh yếu của mối quan hệ giữa các biến số\n",
    "corr = 0\n",
    "for i in range (10):\n",
    "    corr = np.corrcoef(x_train_2d[:,i], y_train_2d)[0, 1]\n",
    "    print(corr)\n",
    "    \n",
    "print(\"\\n\")"
   ]
  },
  {
   "cell_type": "code",
   "execution_count": 10,
   "metadata": {
    "scrolled": true
   },
   "outputs": [
    {
     "name": "stdout",
     "output_type": "stream",
     "text": [
      "RMSE 1 =  11.476463331521298 \n",
      "\n"
     ]
    }
   ],
   "source": [
    "# 2 đặc trưng cho mô hình: Thinness age 5-9, Income composition of resources\n",
    "           #đặc trưng thứ: 7 và 8\n",
    "'''-----------------------------------'''\n",
    "# khai báo các biến cần thiết để tính toán    \n",
    "x_train_1 = []\n",
    "rmse1 = np.zeros(10)\n",
    "\n",
    "def calculate_RMSE_2feature():\n",
    "    x_train_feature_age_5_9 = x[:, 7].copy().reshape((-1, 1))\n",
    "    x_train_feature_Income = x[:, 8].copy().reshape((-1, 1))\n",
    "    \n",
    "    x_train_feature1 = np.column_stack((x_train_feature_age_5_9, x_train_feature_Income)) # hàm nối 2 cột với nhau\n",
    "    y_train_feature = y.copy()\n",
    "    rmse1 = CrossValidation(x_train_feature1, y_train_feature, 5)\n",
    "    \n",
    "    return x_train_feature1, rmse1\n",
    "\n",
    "x_train_1, rmse1 = calculate_RMSE_2feature()\n",
    "\n",
    "# In ra các kết quả\n",
    "print(\"RMSE 1 = \", rmse1, \"\\n\")"
   ]
  },
  {
   "cell_type": "code",
   "execution_count": 11,
   "metadata": {},
   "outputs": [
    {
     "name": "stdout",
     "output_type": "stream",
     "text": [
      "RMSE 2 =  14.605660520221926 \n",
      "\n"
     ]
    }
   ],
   "source": [
    "# 3 đặc trưng cho mô hình: Polio, Diphtheria, GDP\n",
    "           #đặc trưng thứ: 2, 3 và 5\n",
    "'''-----------------------------------'''\n",
    "rmse2 = np.zeros(10)\n",
    "x_train_2 = []\n",
    "\n",
    "def calculate_RMSE_3feature():\n",
    "    x_train_feature_Polio = x[:, 2].copy().reshape((-1, 1))\n",
    "    x_train_feature_Diphtheria = x[:, 3].copy().reshape((-1, 1))\n",
    "    x_train_feature_GDP = x[:, 5].copy().reshape((-1, 1))\n",
    "\n",
    "    x_train_feature2 = np.column_stack((x_train_feature_Polio, x_train_feature_Diphtheria, x_train_feature_GDP))\n",
    "    y_train_feature = y.copy()\n",
    "\n",
    "    rmse2 = CrossValidation(x_train_feature2, y_train_feature, 5)\n",
    "    return x_train_feature2, rmse2\n",
    "\n",
    "x_train_2, rmse2 = calculate_RMSE_3feature()\n",
    "\n",
    "# In ra các kết quả\n",
    "print(\"RMSE 2 = \", rmse2, \"\\n\")"
   ]
  },
  {
   "cell_type": "code",
   "execution_count": 12,
   "metadata": {},
   "outputs": [
    {
     "name": "stdout",
     "output_type": "stream",
     "text": [
      "RMSE 3 =  9.577930755622955 \n",
      "\n"
     ]
    }
   ],
   "source": [
    "# 5 đặc trưng cho mô hình: BMI, Polio, Diphtheria, GDP, Schooling\n",
    "           #đặc trưng thứ: 1, 2, 3, 5 và 9\n",
    "'''-----------------------------------'''\n",
    "rmse3 = np.zeros(10)\n",
    "x_train_3 = []\n",
    "\n",
    "def calculate_RMSE_5feature():\n",
    "    X_train_feature_BMI= x[:, 1].copy().reshape((-1, 1))\n",
    "    X_train_feature_Polio = x[:, 2].copy().reshape((-1, 1))\n",
    "    X_train_feature_Diphtheria = x[:, 3].copy().reshape((-1, 1))\n",
    "    X_train_feature_GDP = x[:, 5].copy().reshape((-1, 1))\n",
    "    X_train_feature_Schooling = x[:, 9].copy().reshape((-1, 1))\n",
    "\n",
    "    X_train_feature3 = np.column_stack((X_train_feature_BMI, \n",
    "                                        X_train_feature_Polio, \n",
    "                                        X_train_feature_Diphtheria,\n",
    "                                        X_train_feature_GDP, \n",
    "                                        X_train_feature_Schooling))\n",
    "    y_train_feature = y.copy()\n",
    "\n",
    "    rmse3 = CrossValidation(X_train_feature3, y_train_feature, 5)\n",
    "\n",
    "    return X_train_feature3, rmse3\n",
    "\n",
    "x_train_3, rmse3 = calculate_RMSE_5feature()\n",
    "\n",
    "# In ra các kết quả\n",
    "print(\"RMSE 3 = \", rmse3, \"\\n\")"
   ]
  },
  {
   "cell_type": "code",
   "execution_count": 13,
   "metadata": {
    "scrolled": false
   },
   "outputs": [
    {
     "name": "stdout",
     "output_type": "stream",
     "text": [
      "9.577930755622955 \n",
      "\n",
      "[0.03518197210685069, 0.07866293712201275, 0.186681017407329, -0.00022255201233355718, 3.7819384704454277] \n",
      "\n"
     ]
    }
   ],
   "source": [
    "'''------Print array------'''\n",
    "def find_min_rmse():\n",
    "    min = rmse1\n",
    "    if rmse2 < min: min = rmse2\n",
    "    if rmse3 < min: min = rmse3\n",
    "    return min\n",
    "\n",
    "\n",
    "min = find_min_rmse()\n",
    "if min == rmse1:\n",
    "    X_train_best_feature = x_train_1\n",
    "\n",
    "if min == rmse2:\n",
    "    X_train_best_feature = x_train_2\n",
    "\n",
    "if min == rmse3:\n",
    "    X_train_best_feature = x_train_3\n",
    "\n",
    "print(min, \"\\n\")\n",
    "\n",
    "\n",
    "lr.fit(X_train_best_feature, y)\n",
    "print(list(lr.get_params()), \"\\n\")"
   ]
  },
  {
   "cell_type": "code",
   "execution_count": 14,
   "metadata": {},
   "outputs": [
    {
     "name": "stdout",
     "output_type": "stream",
     "text": [
      "RMSE =  8.559353765137367 \n",
      "\n"
     ]
    }
   ],
   "source": [
    "# Gọi hàm RMSE (tự cài đặt hoặc từ thư viện) trên tập kiểm tra với mô hình my_best_model\n",
    "X_train_feature_BMI = X_test.to_numpy()[:, 1].copy().reshape((-1, 1))\n",
    "X_train_feature_Polio = X_test.to_numpy()[:, 2].copy().reshape((-1, 1))\n",
    "X_train_feature_Diphtheria = X_test.to_numpy()[:, 3].copy().reshape((-1, 1))\n",
    "X_train_feature_GDP = X_test.to_numpy()[:, 5].copy().reshape((-1, 1))\n",
    "X_train_feature_Schooling = X_test.to_numpy()[:, 9].copy().reshape((-1, 1))\n",
    "\n",
    "connect_X_train_best = np.column_stack((X_train_feature_BMI, \n",
    "                                        X_train_feature_Polio, \n",
    "                                       X_train_feature_Diphtheria,\n",
    "                                       X_train_feature_GDP,\n",
    "                                       X_train_feature_Schooling))\n",
    "y_best_pred = lr.predict(connect_X_train_best)\n",
    "print(\"RMSE = \", RMSE(y_test.copy(), y_best_pred), \"\\n\")"
   ]
  },
  {
   "cell_type": "markdown",
   "metadata": {},
   "source": [
    "Công thức hồi quy\n",
    "\n",
    "$$\\text{Life expectancy} = (BMI *0.0351) + (Polio * 0.0786) + (Diphtheria * 0.1866) + (GDP * (-0.0002)) + (Schooling * 3.7819)$$"
   ]
  }
 ],
 "metadata": {
  "kernelspec": {
   "display_name": "Python 3 (ipykernel)",
   "language": "python",
   "name": "python3"
  },
  "language_info": {
   "codemirror_mode": {
    "name": "ipython",
    "version": 3
   },
   "file_extension": ".py",
   "mimetype": "text/x-python",
   "name": "python",
   "nbconvert_exporter": "python",
   "pygments_lexer": "ipython3",
   "version": "3.9.12"
  },
  "vscode": {
   "interpreter": {
    "hash": "15af99fd1a1a3f0a3416ea421564e792a8676a13670c2eed127d89ab0518a27b"
   }
  }
 },
 "nbformat": 4,
 "nbformat_minor": 2
}
